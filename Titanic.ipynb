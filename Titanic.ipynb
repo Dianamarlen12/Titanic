{
  "nbformat": 4,
  "nbformat_minor": 0,
  "metadata": {
    "colab": {
      "name": "Titanic.ipynb",
      "provenance": [],
      "collapsed_sections": [],
      "authorship_tag": "ABX9TyOtsPIqNNf9Xx3gUrUNtwab",
      "include_colab_link": true
    },
    "kernelspec": {
      "name": "python3",
      "display_name": "Python 3"
    },
    "language_info": {
      "name": "python"
    }
  },
  "cells": [
    {
      "cell_type": "markdown",
      "metadata": {
        "id": "view-in-github",
        "colab_type": "text"
      },
      "source": [
        "<a href=\"https://colab.research.google.com/github/Dianamarlen12/Titanic/blob/main/Titanic.ipynb\" target=\"_parent\"><img src=\"https://colab.research.google.com/assets/colab-badge.svg\" alt=\"Open In Colab\"/></a>"
      ]
    },
    {
      "cell_type": "markdown",
      "metadata": {
        "id": "PA4C6qS1gPwo"
      },
      "source": [
        "* **Nombre del alumno:** Diana Marlen Meneses Alegria\n",
        "* **Matricula:** 1718110399\n",
        "* **Grupo:** IDGS91\n",
        "* **Fecha de entrega:** 05 de noviembre del 2021\n",
        "\n"
      ]
    },
    {
      "cell_type": "markdown",
      "metadata": {
        "id": "DOBBD3-M67GD"
      },
      "source": [
        "# Importar librerias"
      ]
    },
    {
      "cell_type": "code",
      "metadata": {
        "id": "WHhUZDp16_F1"
      },
      "source": [
        "import pandas as pd\n",
        "import numpy as np\n",
        "import matplotlib.pyplot as plt\n",
        "\n",
        "from sklearn.linear_model import LogisticRegression #Regresión Logistica (permite clasificar 0 y 1)\n",
        "\n",
        "from sklearn.model_selection import train_test_split #Nos permite separar nuestros datos en traing y testing\n",
        "\n",
        "#Metricas \n",
        "from sklearn.metrics import accuracy_score, precision_score, recall_score, f1_score #Métricas que se utilizaran \n",
        "from sklearn.metrics import classification_report #Genarar todas las métricas de evaluación\n",
        "from sklearn.metrics import confusion_matrix #Matriz de confusión (como salen los valores correcta y incorrecta)\n",
        "from sklearn.metrics import plot_confusion_matrix #Función para gráficar la matriz de confusión\n",
        "\n",
        "pd.options.display.max_columns = 9 #Columnas que queremos que nos muestre"
      ],
      "execution_count": 1,
      "outputs": []
    },
    {
      "cell_type": "markdown",
      "metadata": {
        "id": "72sOhAGD8wZG"
      },
      "source": [
        "# Importar dataset"
      ]
    },
    {
      "cell_type": "code",
      "metadata": {
        "id": "z5KpN_E78ykp"
      },
      "source": [
        "df = pd.read_csv(\"titanic.csv\")"
      ],
      "execution_count": 2,
      "outputs": []
    },
    {
      "cell_type": "markdown",
      "metadata": {
        "id": "pDCwgSUo85d6"
      },
      "source": [
        "#Analizar el dataframe"
      ]
    },
    {
      "cell_type": "code",
      "metadata": {
        "id": "yr0trA8087g9",
        "colab": {
          "base_uri": "https://localhost:8080/"
        },
        "outputId": "ade4de17-80a4-4d0d-fbdf-3cec5ca19eed"
      },
      "source": [
        "df.info()"
      ],
      "execution_count": 3,
      "outputs": [
        {
          "output_type": "stream",
          "name": "stdout",
          "text": [
            "<class 'pandas.core.frame.DataFrame'>\n",
            "RangeIndex: 887 entries, 0 to 886\n",
            "Data columns (total 7 columns):\n",
            " #   Column            Non-Null Count  Dtype  \n",
            "---  ------            --------------  -----  \n",
            " 0   Survived          887 non-null    int64  \n",
            " 1   Pclass            887 non-null    int64  \n",
            " 2   Sex               887 non-null    object \n",
            " 3   Age               887 non-null    float64\n",
            " 4   Siblings/Spouses  887 non-null    int64  \n",
            " 5   Parents/Children  887 non-null    int64  \n",
            " 6   Fare              887 non-null    float64\n",
            "dtypes: float64(2), int64(4), object(1)\n",
            "memory usage: 48.6+ KB\n"
          ]
        }
      ]
    },
    {
      "cell_type": "code",
      "metadata": {
        "id": "3Nq7CIng9C4n",
        "colab": {
          "base_uri": "https://localhost:8080/",
          "height": 206
        },
        "outputId": "33b22df5-2b36-4d8d-ab72-ea7499794ca9"
      },
      "source": [
        "df.head()"
      ],
      "execution_count": 4,
      "outputs": [
        {
          "output_type": "execute_result",
          "data": {
            "text/html": [
              "<div>\n",
              "<style scoped>\n",
              "    .dataframe tbody tr th:only-of-type {\n",
              "        vertical-align: middle;\n",
              "    }\n",
              "\n",
              "    .dataframe tbody tr th {\n",
              "        vertical-align: top;\n",
              "    }\n",
              "\n",
              "    .dataframe thead th {\n",
              "        text-align: right;\n",
              "    }\n",
              "</style>\n",
              "<table border=\"1\" class=\"dataframe\">\n",
              "  <thead>\n",
              "    <tr style=\"text-align: right;\">\n",
              "      <th></th>\n",
              "      <th>Survived</th>\n",
              "      <th>Pclass</th>\n",
              "      <th>Sex</th>\n",
              "      <th>Age</th>\n",
              "      <th>Siblings/Spouses</th>\n",
              "      <th>Parents/Children</th>\n",
              "      <th>Fare</th>\n",
              "    </tr>\n",
              "  </thead>\n",
              "  <tbody>\n",
              "    <tr>\n",
              "      <th>0</th>\n",
              "      <td>0</td>\n",
              "      <td>3</td>\n",
              "      <td>male</td>\n",
              "      <td>22.0</td>\n",
              "      <td>1</td>\n",
              "      <td>0</td>\n",
              "      <td>7.2500</td>\n",
              "    </tr>\n",
              "    <tr>\n",
              "      <th>1</th>\n",
              "      <td>1</td>\n",
              "      <td>1</td>\n",
              "      <td>female</td>\n",
              "      <td>38.0</td>\n",
              "      <td>1</td>\n",
              "      <td>0</td>\n",
              "      <td>71.2833</td>\n",
              "    </tr>\n",
              "    <tr>\n",
              "      <th>2</th>\n",
              "      <td>1</td>\n",
              "      <td>3</td>\n",
              "      <td>female</td>\n",
              "      <td>26.0</td>\n",
              "      <td>0</td>\n",
              "      <td>0</td>\n",
              "      <td>7.9250</td>\n",
              "    </tr>\n",
              "    <tr>\n",
              "      <th>3</th>\n",
              "      <td>1</td>\n",
              "      <td>1</td>\n",
              "      <td>female</td>\n",
              "      <td>35.0</td>\n",
              "      <td>1</td>\n",
              "      <td>0</td>\n",
              "      <td>53.1000</td>\n",
              "    </tr>\n",
              "    <tr>\n",
              "      <th>4</th>\n",
              "      <td>0</td>\n",
              "      <td>3</td>\n",
              "      <td>male</td>\n",
              "      <td>35.0</td>\n",
              "      <td>0</td>\n",
              "      <td>0</td>\n",
              "      <td>8.0500</td>\n",
              "    </tr>\n",
              "  </tbody>\n",
              "</table>\n",
              "</div>"
            ],
            "text/plain": [
              "   Survived  Pclass     Sex   Age  Siblings/Spouses  Parents/Children     Fare\n",
              "0         0       3    male  22.0                 1                 0   7.2500\n",
              "1         1       1  female  38.0                 1                 0  71.2833\n",
              "2         1       3  female  26.0                 0                 0   7.9250\n",
              "3         1       1  female  35.0                 1                 0  53.1000\n",
              "4         0       3    male  35.0                 0                 0   8.0500"
            ]
          },
          "metadata": {},
          "execution_count": 4
        }
      ]
    },
    {
      "cell_type": "code",
      "metadata": {
        "id": "FKoyV03A9NTn",
        "colab": {
          "base_uri": "https://localhost:8080/",
          "height": 300
        },
        "outputId": "8d2423b7-f713-4b33-f169-8a52fec28c55"
      },
      "source": [
        "df.describe()"
      ],
      "execution_count": 5,
      "outputs": [
        {
          "output_type": "execute_result",
          "data": {
            "text/html": [
              "<div>\n",
              "<style scoped>\n",
              "    .dataframe tbody tr th:only-of-type {\n",
              "        vertical-align: middle;\n",
              "    }\n",
              "\n",
              "    .dataframe tbody tr th {\n",
              "        vertical-align: top;\n",
              "    }\n",
              "\n",
              "    .dataframe thead th {\n",
              "        text-align: right;\n",
              "    }\n",
              "</style>\n",
              "<table border=\"1\" class=\"dataframe\">\n",
              "  <thead>\n",
              "    <tr style=\"text-align: right;\">\n",
              "      <th></th>\n",
              "      <th>Survived</th>\n",
              "      <th>Pclass</th>\n",
              "      <th>Age</th>\n",
              "      <th>Siblings/Spouses</th>\n",
              "      <th>Parents/Children</th>\n",
              "      <th>Fare</th>\n",
              "    </tr>\n",
              "  </thead>\n",
              "  <tbody>\n",
              "    <tr>\n",
              "      <th>count</th>\n",
              "      <td>887.000000</td>\n",
              "      <td>887.000000</td>\n",
              "      <td>887.000000</td>\n",
              "      <td>887.000000</td>\n",
              "      <td>887.000000</td>\n",
              "      <td>887.00000</td>\n",
              "    </tr>\n",
              "    <tr>\n",
              "      <th>mean</th>\n",
              "      <td>0.385569</td>\n",
              "      <td>2.305524</td>\n",
              "      <td>29.471443</td>\n",
              "      <td>0.525366</td>\n",
              "      <td>0.383315</td>\n",
              "      <td>32.30542</td>\n",
              "    </tr>\n",
              "    <tr>\n",
              "      <th>std</th>\n",
              "      <td>0.487004</td>\n",
              "      <td>0.836662</td>\n",
              "      <td>14.121908</td>\n",
              "      <td>1.104669</td>\n",
              "      <td>0.807466</td>\n",
              "      <td>49.78204</td>\n",
              "    </tr>\n",
              "    <tr>\n",
              "      <th>min</th>\n",
              "      <td>0.000000</td>\n",
              "      <td>1.000000</td>\n",
              "      <td>0.420000</td>\n",
              "      <td>0.000000</td>\n",
              "      <td>0.000000</td>\n",
              "      <td>0.00000</td>\n",
              "    </tr>\n",
              "    <tr>\n",
              "      <th>25%</th>\n",
              "      <td>0.000000</td>\n",
              "      <td>2.000000</td>\n",
              "      <td>20.250000</td>\n",
              "      <td>0.000000</td>\n",
              "      <td>0.000000</td>\n",
              "      <td>7.92500</td>\n",
              "    </tr>\n",
              "    <tr>\n",
              "      <th>50%</th>\n",
              "      <td>0.000000</td>\n",
              "      <td>3.000000</td>\n",
              "      <td>28.000000</td>\n",
              "      <td>0.000000</td>\n",
              "      <td>0.000000</td>\n",
              "      <td>14.45420</td>\n",
              "    </tr>\n",
              "    <tr>\n",
              "      <th>75%</th>\n",
              "      <td>1.000000</td>\n",
              "      <td>3.000000</td>\n",
              "      <td>38.000000</td>\n",
              "      <td>1.000000</td>\n",
              "      <td>0.000000</td>\n",
              "      <td>31.13750</td>\n",
              "    </tr>\n",
              "    <tr>\n",
              "      <th>max</th>\n",
              "      <td>1.000000</td>\n",
              "      <td>3.000000</td>\n",
              "      <td>80.000000</td>\n",
              "      <td>8.000000</td>\n",
              "      <td>6.000000</td>\n",
              "      <td>512.32920</td>\n",
              "    </tr>\n",
              "  </tbody>\n",
              "</table>\n",
              "</div>"
            ],
            "text/plain": [
              "         Survived      Pclass         Age  Siblings/Spouses  Parents/Children  \\\n",
              "count  887.000000  887.000000  887.000000        887.000000        887.000000   \n",
              "mean     0.385569    2.305524   29.471443          0.525366          0.383315   \n",
              "std      0.487004    0.836662   14.121908          1.104669          0.807466   \n",
              "min      0.000000    1.000000    0.420000          0.000000          0.000000   \n",
              "25%      0.000000    2.000000   20.250000          0.000000          0.000000   \n",
              "50%      0.000000    3.000000   28.000000          0.000000          0.000000   \n",
              "75%      1.000000    3.000000   38.000000          1.000000          0.000000   \n",
              "max      1.000000    3.000000   80.000000          8.000000          6.000000   \n",
              "\n",
              "            Fare  \n",
              "count  887.00000  \n",
              "mean    32.30542  \n",
              "std     49.78204  \n",
              "min      0.00000  \n",
              "25%      7.92500  \n",
              "50%     14.45420  \n",
              "75%     31.13750  \n",
              "max    512.32920  "
            ]
          },
          "metadata": {},
          "execution_count": 5
        }
      ]
    },
    {
      "cell_type": "markdown",
      "metadata": {
        "id": "Ql_XRHl-9aba"
      },
      "source": [
        "#Crear una columna (Feature Ingeniring)"
      ]
    },
    {
      "cell_type": "code",
      "metadata": {
        "id": "PJC0K7lJ-y34"
      },
      "source": [
        "df['Male'] = df['Sex'] == 'male' #Comparación de los datos y va agregar una nueva columna con valores boleanos (True and False)"
      ],
      "execution_count": 6,
      "outputs": []
    },
    {
      "cell_type": "code",
      "metadata": {
        "id": "AIiSAEn39cJo",
        "colab": {
          "base_uri": "https://localhost:8080/",
          "height": 206
        },
        "outputId": "8c2d7334-e913-407f-a203-13089d1bb692"
      },
      "source": [
        "df.head()"
      ],
      "execution_count": 7,
      "outputs": [
        {
          "output_type": "execute_result",
          "data": {
            "text/html": [
              "<div>\n",
              "<style scoped>\n",
              "    .dataframe tbody tr th:only-of-type {\n",
              "        vertical-align: middle;\n",
              "    }\n",
              "\n",
              "    .dataframe tbody tr th {\n",
              "        vertical-align: top;\n",
              "    }\n",
              "\n",
              "    .dataframe thead th {\n",
              "        text-align: right;\n",
              "    }\n",
              "</style>\n",
              "<table border=\"1\" class=\"dataframe\">\n",
              "  <thead>\n",
              "    <tr style=\"text-align: right;\">\n",
              "      <th></th>\n",
              "      <th>Survived</th>\n",
              "      <th>Pclass</th>\n",
              "      <th>Sex</th>\n",
              "      <th>Age</th>\n",
              "      <th>Siblings/Spouses</th>\n",
              "      <th>Parents/Children</th>\n",
              "      <th>Fare</th>\n",
              "      <th>Male</th>\n",
              "    </tr>\n",
              "  </thead>\n",
              "  <tbody>\n",
              "    <tr>\n",
              "      <th>0</th>\n",
              "      <td>0</td>\n",
              "      <td>3</td>\n",
              "      <td>male</td>\n",
              "      <td>22.0</td>\n",
              "      <td>1</td>\n",
              "      <td>0</td>\n",
              "      <td>7.2500</td>\n",
              "      <td>True</td>\n",
              "    </tr>\n",
              "    <tr>\n",
              "      <th>1</th>\n",
              "      <td>1</td>\n",
              "      <td>1</td>\n",
              "      <td>female</td>\n",
              "      <td>38.0</td>\n",
              "      <td>1</td>\n",
              "      <td>0</td>\n",
              "      <td>71.2833</td>\n",
              "      <td>False</td>\n",
              "    </tr>\n",
              "    <tr>\n",
              "      <th>2</th>\n",
              "      <td>1</td>\n",
              "      <td>3</td>\n",
              "      <td>female</td>\n",
              "      <td>26.0</td>\n",
              "      <td>0</td>\n",
              "      <td>0</td>\n",
              "      <td>7.9250</td>\n",
              "      <td>False</td>\n",
              "    </tr>\n",
              "    <tr>\n",
              "      <th>3</th>\n",
              "      <td>1</td>\n",
              "      <td>1</td>\n",
              "      <td>female</td>\n",
              "      <td>35.0</td>\n",
              "      <td>1</td>\n",
              "      <td>0</td>\n",
              "      <td>53.1000</td>\n",
              "      <td>False</td>\n",
              "    </tr>\n",
              "    <tr>\n",
              "      <th>4</th>\n",
              "      <td>0</td>\n",
              "      <td>3</td>\n",
              "      <td>male</td>\n",
              "      <td>35.0</td>\n",
              "      <td>0</td>\n",
              "      <td>0</td>\n",
              "      <td>8.0500</td>\n",
              "      <td>True</td>\n",
              "    </tr>\n",
              "  </tbody>\n",
              "</table>\n",
              "</div>"
            ],
            "text/plain": [
              "   Survived  Pclass     Sex   Age  Siblings/Spouses  Parents/Children  \\\n",
              "0         0       3    male  22.0                 1                 0   \n",
              "1         1       1  female  38.0                 1                 0   \n",
              "2         1       3  female  26.0                 0                 0   \n",
              "3         1       1  female  35.0                 1                 0   \n",
              "4         0       3    male  35.0                 0                 0   \n",
              "\n",
              "      Fare   Male  \n",
              "0   7.2500   True  \n",
              "1  71.2833  False  \n",
              "2   7.9250  False  \n",
              "3  53.1000  False  \n",
              "4   8.0500   True  "
            ]
          },
          "metadata": {},
          "execution_count": 7
        }
      ]
    },
    {
      "cell_type": "code",
      "metadata": {
        "id": "YfBy5kUJ_nge",
        "colab": {
          "base_uri": "https://localhost:8080/",
          "height": 300
        },
        "outputId": "18476f6a-6d06-4249-a92b-e946dc367400"
      },
      "source": [
        "df.describe()"
      ],
      "execution_count": 8,
      "outputs": [
        {
          "output_type": "execute_result",
          "data": {
            "text/html": [
              "<div>\n",
              "<style scoped>\n",
              "    .dataframe tbody tr th:only-of-type {\n",
              "        vertical-align: middle;\n",
              "    }\n",
              "\n",
              "    .dataframe tbody tr th {\n",
              "        vertical-align: top;\n",
              "    }\n",
              "\n",
              "    .dataframe thead th {\n",
              "        text-align: right;\n",
              "    }\n",
              "</style>\n",
              "<table border=\"1\" class=\"dataframe\">\n",
              "  <thead>\n",
              "    <tr style=\"text-align: right;\">\n",
              "      <th></th>\n",
              "      <th>Survived</th>\n",
              "      <th>Pclass</th>\n",
              "      <th>Age</th>\n",
              "      <th>Siblings/Spouses</th>\n",
              "      <th>Parents/Children</th>\n",
              "      <th>Fare</th>\n",
              "    </tr>\n",
              "  </thead>\n",
              "  <tbody>\n",
              "    <tr>\n",
              "      <th>count</th>\n",
              "      <td>887.000000</td>\n",
              "      <td>887.000000</td>\n",
              "      <td>887.000000</td>\n",
              "      <td>887.000000</td>\n",
              "      <td>887.000000</td>\n",
              "      <td>887.00000</td>\n",
              "    </tr>\n",
              "    <tr>\n",
              "      <th>mean</th>\n",
              "      <td>0.385569</td>\n",
              "      <td>2.305524</td>\n",
              "      <td>29.471443</td>\n",
              "      <td>0.525366</td>\n",
              "      <td>0.383315</td>\n",
              "      <td>32.30542</td>\n",
              "    </tr>\n",
              "    <tr>\n",
              "      <th>std</th>\n",
              "      <td>0.487004</td>\n",
              "      <td>0.836662</td>\n",
              "      <td>14.121908</td>\n",
              "      <td>1.104669</td>\n",
              "      <td>0.807466</td>\n",
              "      <td>49.78204</td>\n",
              "    </tr>\n",
              "    <tr>\n",
              "      <th>min</th>\n",
              "      <td>0.000000</td>\n",
              "      <td>1.000000</td>\n",
              "      <td>0.420000</td>\n",
              "      <td>0.000000</td>\n",
              "      <td>0.000000</td>\n",
              "      <td>0.00000</td>\n",
              "    </tr>\n",
              "    <tr>\n",
              "      <th>25%</th>\n",
              "      <td>0.000000</td>\n",
              "      <td>2.000000</td>\n",
              "      <td>20.250000</td>\n",
              "      <td>0.000000</td>\n",
              "      <td>0.000000</td>\n",
              "      <td>7.92500</td>\n",
              "    </tr>\n",
              "    <tr>\n",
              "      <th>50%</th>\n",
              "      <td>0.000000</td>\n",
              "      <td>3.000000</td>\n",
              "      <td>28.000000</td>\n",
              "      <td>0.000000</td>\n",
              "      <td>0.000000</td>\n",
              "      <td>14.45420</td>\n",
              "    </tr>\n",
              "    <tr>\n",
              "      <th>75%</th>\n",
              "      <td>1.000000</td>\n",
              "      <td>3.000000</td>\n",
              "      <td>38.000000</td>\n",
              "      <td>1.000000</td>\n",
              "      <td>0.000000</td>\n",
              "      <td>31.13750</td>\n",
              "    </tr>\n",
              "    <tr>\n",
              "      <th>max</th>\n",
              "      <td>1.000000</td>\n",
              "      <td>3.000000</td>\n",
              "      <td>80.000000</td>\n",
              "      <td>8.000000</td>\n",
              "      <td>6.000000</td>\n",
              "      <td>512.32920</td>\n",
              "    </tr>\n",
              "  </tbody>\n",
              "</table>\n",
              "</div>"
            ],
            "text/plain": [
              "         Survived      Pclass         Age  Siblings/Spouses  Parents/Children  \\\n",
              "count  887.000000  887.000000  887.000000        887.000000        887.000000   \n",
              "mean     0.385569    2.305524   29.471443          0.525366          0.383315   \n",
              "std      0.487004    0.836662   14.121908          1.104669          0.807466   \n",
              "min      0.000000    1.000000    0.420000          0.000000          0.000000   \n",
              "25%      0.000000    2.000000   20.250000          0.000000          0.000000   \n",
              "50%      0.000000    3.000000   28.000000          0.000000          0.000000   \n",
              "75%      1.000000    3.000000   38.000000          1.000000          0.000000   \n",
              "max      1.000000    3.000000   80.000000          8.000000          6.000000   \n",
              "\n",
              "            Fare  \n",
              "count  887.00000  \n",
              "mean    32.30542  \n",
              "std     49.78204  \n",
              "min      0.00000  \n",
              "25%      7.92500  \n",
              "50%     14.45420  \n",
              "75%     31.13750  \n",
              "max    512.32920  "
            ]
          },
          "metadata": {},
          "execution_count": 8
        }
      ]
    },
    {
      "cell_type": "code",
      "metadata": {
        "id": "p4zNYyHz_uSV",
        "colab": {
          "base_uri": "https://localhost:8080/"
        },
        "outputId": "7e28203b-d04c-4b76-8688-d0a88f87d34a"
      },
      "source": [
        "df['Male'].sum()"
      ],
      "execution_count": 9,
      "outputs": [
        {
          "output_type": "execute_result",
          "data": {
            "text/plain": [
              "573"
            ]
          },
          "metadata": {},
          "execution_count": 9
        }
      ]
    },
    {
      "cell_type": "markdown",
      "metadata": {
        "id": "ilIUTfNkCzmG"
      },
      "source": [
        "#Scatter plot"
      ]
    },
    {
      "cell_type": "code",
      "metadata": {
        "id": "HDNUW9LpDTfX",
        "colab": {
          "base_uri": "https://localhost:8080/",
          "height": 351
        },
        "outputId": "195e567a-7544-442a-9848-b8e824de6de7"
      },
      "source": [
        "plt.figure(figsize=(8,5))\n",
        "plt.scatter(df['Fare'], df['Age'],c=df['Male'],marker=\"x\") #Como se encuentran distribuidos nuestros datos\n",
        "plt.xlabel(\"Fare\")\n",
        "plt.ylabel(\"Age\")"
      ],
      "execution_count": 10,
      "outputs": [
        {
          "output_type": "execute_result",
          "data": {
            "text/plain": [
              "Text(0, 0.5, 'Age')"
            ]
          },
          "metadata": {},
          "execution_count": 10
        },
        {
          "output_type": "display_data",
          "data": {
            "image/png": "[encoded data removed]",
            "text/plain": [
              "<Figure size 576x360 with 1 Axes>"
            ]
          },
          "metadata": {
            "needs_background": "light"
          }
        }
      ]
    },
    {
      "cell_type": "markdown",
      "metadata": {
        "id": "IedHeqX6FARB"
      },
      "source": [
        "#Separar caracteristicas y objetivo"
      ]
    },
    {
      "cell_type": "code",
      "metadata": {
        "id": "m_Z6TiSsF7ft"
      },
      "source": [
        "#X = df[['Pclass','Age','Siblings/Spouses','Parents/Children','Fare','Male']]\n",
        "#y = df['Survived'].values"
      ],
      "execution_count": 11,
      "outputs": []
    },
    {
      "cell_type": "code",
      "metadata": {
        "id": "x3JC9q1gFGSu"
      },
      "source": [
        "X = df[['Pclass','Age','Siblings/Spouses','Parents/Children','Fare','Male']].values\n",
        "y = df['Survived'].values"
      ],
      "execution_count": 12,
      "outputs": []
    },
    {
      "cell_type": "code",
      "metadata": {
        "id": "cQfo2aiSFlnB",
        "colab": {
          "base_uri": "https://localhost:8080/"
        },
        "outputId": "ece3b913-f287-4ca1-f5e9-9ba2c8a22707"
      },
      "source": [
        "X"
      ],
      "execution_count": 13,
      "outputs": [
        {
          "output_type": "execute_result",
          "data": {
            "text/plain": [
              "array([[3, 22.0, 1, 0, 7.25, True],\n",
              "       [1, 38.0, 1, 0, 71.2833, False],\n",
              "       [3, 26.0, 0, 0, 7.925, False],\n",
              "       ...,\n",
              "       [3, 7.0, 1, 2, 23.45, False],\n",
              "       [1, 26.0, 0, 0, 30.0, True],\n",
              "       [3, 32.0, 0, 0, 7.75, True]], dtype=object)"
            ]
          },
          "metadata": {},
          "execution_count": 13
        }
      ]
    },
    {
      "cell_type": "code",
      "metadata": {
        "id": "_5bb5C38FmWw",
        "colab": {
          "base_uri": "https://localhost:8080/"
        },
        "outputId": "34953afb-1243-4c8a-e790-fbc960ba3567"
      },
      "source": [
        "y"
      ],
      "execution_count": 14,
      "outputs": [
        {
          "output_type": "execute_result",
          "data": {
            "text/plain": [
              "array([0, 1, 1, 1, 0, 0, 0, 0, 1, 1, 1, 1, 0, 0, 0, 1, 0, 1, 0, 1, 0, 1,\n",
              "       1, 1, 0, 1, 0, 0, 1, 0, 0, 1, 1, 0, 0, 0, 1, 0, 0, 1, 0, 0, 1, 1,\n",
              "       0, 0, 1, 0, 0, 0, 0, 1, 1, 0, 1, 1, 0, 1, 0, 0, 1, 0, 0, 0, 1, 1,\n",
              "       0, 1, 0, 0, 0, 0, 0, 1, 0, 0, 0, 1, 1, 0, 1, 1, 0, 1, 1, 0, 0, 1,\n",
              "       0, 0, 0, 0, 0, 0, 0, 0, 1, 1, 0, 0, 0, 0, 0, 0, 0, 1, 1, 0, 1, 0,\n",
              "       0, 0, 0, 0, 0, 0, 0, 0, 0, 0, 0, 0, 1, 0, 1, 0, 1, 1, 0, 0, 0, 0,\n",
              "       1, 0, 0, 1, 0, 0, 0, 0, 1, 1, 0, 0, 0, 1, 0, 0, 0, 0, 1, 0, 0, 0,\n",
              "       0, 1, 0, 0, 0, 0, 1, 0, 0, 0, 1, 1, 0, 0, 0, 0, 0, 1, 0, 0, 0, 0,\n",
              "       0, 0, 0, 0, 0, 0, 1, 1, 0, 1, 1, 0, 0, 1, 0, 1, 1, 1, 1, 0, 0, 1,\n",
              "       0, 0, 0, 0, 0, 1, 0, 0, 1, 1, 1, 0, 1, 0, 0, 0, 1, 1, 0, 1, 0, 1,\n",
              "       0, 0, 0, 1, 0, 1, 0, 0, 0, 1, 0, 0, 1, 0, 0, 0, 1, 0, 0, 0, 1, 0,\n",
              "       0, 0, 0, 0, 1, 1, 0, 0, 0, 0, 0, 0, 1, 1, 1, 1, 1, 1, 0, 0, 0, 0,\n",
              "       0, 1, 1, 1, 0, 1, 1, 0, 1, 1, 0, 0, 0, 1, 0, 0, 0, 1, 0, 0, 1, 0,\n",
              "       1, 1, 1, 1, 0, 0, 0, 0, 0, 0, 1, 1, 1, 1, 0, 1, 0, 1, 1, 1, 0, 1,\n",
              "       1, 1, 0, 0, 0, 1, 1, 0, 1, 1, 0, 0, 1, 1, 0, 1, 0, 1, 1, 1, 1, 0,\n",
              "       0, 0, 1, 0, 0, 1, 1, 0, 1, 1, 0, 0, 0, 1, 1, 1, 1, 0, 0, 0, 0, 0,\n",
              "       0, 0, 1, 0, 1, 1, 0, 0, 0, 0, 0, 0, 1, 1, 1, 1, 1, 0, 0, 0, 0, 1,\n",
              "       1, 0, 0, 0, 1, 1, 0, 1, 0, 0, 0, 1, 0, 1, 1, 1, 0, 1, 1, 0, 0, 0,\n",
              "       0, 1, 1, 0, 0, 0, 0, 0, 0, 1, 0, 0, 0, 0, 1, 0, 1, 0, 1, 1, 0, 0,\n",
              "       0, 0, 0, 0, 0, 1, 1, 0, 1, 1, 1, 1, 0, 0, 1, 0, 1, 0, 0, 1, 0, 0,\n",
              "       1, 1, 1, 1, 1, 1, 1, 0, 0, 0, 1, 0, 1, 0, 1, 1, 0, 1, 0, 0, 0, 0,\n",
              "       0, 0, 0, 0, 1, 0, 0, 1, 1, 0, 0, 0, 0, 0, 1, 0, 0, 0, 1, 1, 0, 1,\n",
              "       0, 0, 1, 0, 0, 0, 0, 0, 0, 1, 0, 0, 0, 0, 0, 0, 0, 1, 0, 1, 1, 0,\n",
              "       1, 1, 0, 1, 1, 0, 0, 1, 0, 1, 0, 1, 0, 0, 1, 0, 0, 1, 0, 0, 0, 1,\n",
              "       0, 0, 1, 0, 1, 0, 1, 0, 1, 1, 0, 0, 1, 0, 0, 1, 1, 0, 1, 1, 0, 0,\n",
              "       1, 1, 0, 1, 0, 1, 1, 0, 0, 0, 0, 0, 0, 0, 0, 0, 1, 1, 1, 1, 1, 0,\n",
              "       0, 1, 1, 0, 1, 1, 1, 0, 0, 0, 1, 0, 1, 0, 0, 0, 1, 0, 0, 0, 0, 1,\n",
              "       0, 0, 1, 1, 0, 0, 0, 1, 0, 0, 1, 1, 1, 0, 0, 1, 0, 0, 1, 0, 0, 1,\n",
              "       0, 0, 1, 1, 0, 0, 0, 0, 1, 0, 0, 1, 0, 1, 0, 0, 1, 0, 0, 0, 0, 0,\n",
              "       1, 0, 1, 1, 1, 0, 1, 0, 1, 0, 1, 0, 1, 0, 0, 0, 0, 0, 0, 1, 0, 0,\n",
              "       0, 1, 0, 0, 0, 0, 1, 1, 0, 0, 1, 0, 0, 0, 1, 0, 1, 0, 1, 0, 0, 0,\n",
              "       0, 0, 0, 0, 1, 1, 1, 1, 0, 0, 0, 0, 1, 0, 0, 1, 1, 0, 0, 0, 0, 1,\n",
              "       1, 1, 1, 1, 0, 1, 0, 0, 0, 1, 1, 0, 1, 0, 0, 0, 1, 0, 1, 1, 0, 0,\n",
              "       1, 0, 0, 0, 0, 0, 0, 1, 0, 0, 1, 0, 1, 0, 1, 0, 0, 1, 0, 0, 1, 1,\n",
              "       0, 0, 1, 1, 0, 0, 0, 1, 0, 0, 1, 1, 0, 1, 0, 0, 0, 0, 0, 0, 0, 0,\n",
              "       1, 0, 0, 1, 0, 1, 1, 1, 0, 0, 0, 0, 1, 0, 1, 0, 0, 0, 0, 0, 0, 0,\n",
              "       1, 1, 0, 0, 0, 1, 1, 1, 1, 0, 0, 0, 0, 1, 0, 0, 0, 0, 0, 0, 0, 0,\n",
              "       0, 0, 1, 1, 0, 1, 0, 0, 0, 1, 1, 1, 1, 1, 0, 0, 0, 1, 0, 0, 1, 1,\n",
              "       0, 0, 1, 0, 0, 0, 0, 0, 0, 1, 0, 0, 0, 1, 0, 1, 1, 1, 1, 0, 0, 0,\n",
              "       1, 0, 0, 1, 1, 0, 0, 1, 0, 1, 0, 0, 1, 1, 0, 0, 0, 1, 1, 0, 0, 0,\n",
              "       0, 0, 0, 1, 0, 1, 0])"
            ]
          },
          "metadata": {},
          "execution_count": 14
        }
      ]
    },
    {
      "cell_type": "markdown",
      "metadata": {
        "id": "PQzEnsmFGEBD"
      },
      "source": [
        "#Configurar el modelo "
      ]
    },
    {
      "cell_type": "code",
      "metadata": {
        "id": "1ZDqAhXUGGPh"
      },
      "source": [
        "model = LogisticRegression()"
      ],
      "execution_count": 15,
      "outputs": []
    },
    {
      "cell_type": "markdown",
      "metadata": {
        "id": "qQsqHQ-RaiSq"
      },
      "source": [
        "# Dividir en train y test"
      ]
    },
    {
      "cell_type": "code",
      "metadata": {
        "id": "msZ5Zh54akn-"
      },
      "source": [
        "X_train, X_test, y_train, y_test = train_test_split(X,y, test_size=0.2, random_state=1234)"
      ],
      "execution_count": 16,
      "outputs": []
    },
    {
      "cell_type": "code",
      "metadata": {
        "colab": {
          "base_uri": "https://localhost:8080/"
        },
        "id": "OYcXfvrpYXeY",
        "outputId": "49e1f444-8519-4039-f437-37977faca7b1"
      },
      "source": [
        "y_test"
      ],
      "execution_count": 17,
      "outputs": [
        {
          "output_type": "execute_result",
          "data": {
            "text/plain": [
              "array([0, 0, 1, 0, 0, 0, 0, 1, 0, 1, 0, 1, 1, 0, 1, 0, 0, 0, 0, 0, 1, 1,\n",
              "       0, 0, 0, 0, 1, 1, 1, 0, 0, 1, 1, 1, 1, 0, 0, 0, 0, 0, 1, 1, 1, 0,\n",
              "       0, 0, 0, 0, 0, 0, 0, 0, 1, 1, 0, 0, 0, 0, 1, 0, 0, 1, 0, 1, 0, 0,\n",
              "       0, 0, 1, 0, 0, 1, 0, 1, 0, 0, 1, 0, 1, 0, 1, 0, 1, 0, 0, 0, 0, 0,\n",
              "       0, 1, 1, 0, 0, 0, 0, 1, 0, 0, 0, 0, 1, 0, 1, 1, 1, 1, 1, 0, 1, 1,\n",
              "       0, 1, 0, 0, 1, 0, 0, 0, 0, 1, 1, 1, 0, 0, 1, 1, 1, 0, 0, 1, 0, 0,\n",
              "       0, 0, 1, 0, 1, 0, 0, 1, 1, 0, 0, 0, 0, 0, 1, 0, 1, 1, 1, 0, 0, 1,\n",
              "       1, 0, 1, 1, 0, 1, 0, 0, 1, 1, 1, 0, 0, 0, 0, 0, 1, 0, 0, 0, 0, 0,\n",
              "       0, 1])"
            ]
          },
          "metadata": {},
          "execution_count": 17
        }
      ]
    },
    {
      "cell_type": "markdown",
      "metadata": {
        "id": "IAnYgRD1ayOo"
      },
      "source": [
        "# Entrenar"
      ]
    },
    {
      "cell_type": "code",
      "metadata": {
        "id": "1j41tuxFazig",
        "colab": {
          "base_uri": "https://localhost:8080/"
        },
        "outputId": "f66bfc65-e440-48a7-f63b-80df15acd02e"
      },
      "source": [
        "model.fit(X_train, y_train)"
      ],
      "execution_count": 18,
      "outputs": [
        {
          "output_type": "execute_result",
          "data": {
            "text/plain": [
              "LogisticRegression()"
            ]
          },
          "metadata": {},
          "execution_count": 18
        }
      ]
    },
    {
      "cell_type": "markdown",
      "metadata": {
        "id": "u4cvOVUUa-Vx"
      },
      "source": [
        "#Predicciones"
      ]
    },
    {
      "cell_type": "code",
      "metadata": {
        "id": "s0SuBcTGa_5l"
      },
      "source": [
        "y_pred = model.predict(X_test)"
      ],
      "execution_count": 19,
      "outputs": []
    },
    {
      "cell_type": "markdown",
      "metadata": {
        "id": "22q7lV2hbEhO"
      },
      "source": [
        "#Analizar las predicciones"
      ]
    },
    {
      "cell_type": "code",
      "metadata": {
        "id": "HBPu1eRrbHJG",
        "colab": {
          "base_uri": "https://localhost:8080/"
        },
        "outputId": "ee6de9ab-9ac2-43e1-a484-fbee2b4252a7"
      },
      "source": [
        "X_test.shape"
      ],
      "execution_count": 20,
      "outputs": [
        {
          "output_type": "execute_result",
          "data": {
            "text/plain": [
              "(178, 6)"
            ]
          },
          "metadata": {},
          "execution_count": 20
        }
      ]
    },
    {
      "cell_type": "code",
      "metadata": {
        "id": "ytgUXj3_bLhk",
        "colab": {
          "base_uri": "https://localhost:8080/"
        },
        "outputId": "9c26793c-b146-4d6c-e081-2e24795dcbca"
      },
      "source": [
        "X_test[6] #(:) Ver todos los registros o poner cuantos se necesita "
      ],
      "execution_count": 21,
      "outputs": [
        {
          "output_type": "execute_result",
          "data": {
            "text/plain": [
              "array([3, 14.0, 5, 2, 46.9, True], dtype=object)"
            ]
          },
          "metadata": {},
          "execution_count": 21
        }
      ]
    },
    {
      "cell_type": "code",
      "metadata": {
        "id": "tvhNmH3Nbn7k",
        "colab": {
          "base_uri": "https://localhost:8080/"
        },
        "outputId": "2d6e3b4d-7464-44dd-b74f-673d37307649"
      },
      "source": [
        "y_test[6]"
      ],
      "execution_count": 22,
      "outputs": [
        {
          "output_type": "execute_result",
          "data": {
            "text/plain": [
              "0"
            ]
          },
          "metadata": {},
          "execution_count": 22
        }
      ]
    },
    {
      "cell_type": "code",
      "metadata": {
        "id": "-YkmVtfSj5da",
        "colab": {
          "base_uri": "https://localhost:8080/"
        },
        "outputId": "c6cf18a2-7f74-4fc0-a713-d3ab3ab8f44a"
      },
      "source": [
        "y_pred[6]"
      ],
      "execution_count": 23,
      "outputs": [
        {
          "output_type": "execute_result",
          "data": {
            "text/plain": [
              "0"
            ]
          },
          "metadata": {},
          "execution_count": 23
        }
      ]
    },
    {
      "cell_type": "markdown",
      "metadata": {
        "id": "DIoo27RYkZQ9"
      },
      "source": [
        "#Probabilidad"
      ]
    },
    {
      "cell_type": "code",
      "metadata": {
        "id": "aBZJ0K2ykanY",
        "colab": {
          "base_uri": "https://localhost:8080/"
        },
        "outputId": "9d1403fb-d2cb-463a-885a-a31309607004"
      },
      "source": [
        "model.predict_proba(X_test)[:,0]"
      ],
      "execution_count": 24,
      "outputs": [
        {
          "output_type": "execute_result",
          "data": {
            "text/plain": [
              "array([0.85750024, 0.87163322, 0.15653626, 0.74869022, 0.852539  ,\n",
              "       0.93085628, 0.95608705, 0.18144388, 0.94066414, 0.07951965,\n",
              "       0.89632751, 0.91037562, 0.29282373, 0.72591669, 0.48655704,\n",
              "       0.87166001, 0.13670495, 0.71597703, 0.93827604, 0.75619016,\n",
              "       0.23757079, 0.78363573, 0.35422468, 0.31831598, 0.34631028,\n",
              "       0.33594669, 0.67204702, 0.27631627, 0.39880546, 0.64460037,\n",
              "       0.89997666, 0.19615527, 0.1018199 , 0.1778387 , 0.2634761 ,\n",
              "       0.90711203, 0.87159192, 0.87163322, 0.86739194, 0.6312331 ,\n",
              "       0.90040994, 0.04206009, 0.07530612, 0.27048188, 0.93096021,\n",
              "       0.90354336, 0.89383097, 0.88698135, 0.82783118, 0.91359925,\n",
              "       0.9382899 , 0.88707112, 0.88599459, 0.47838612, 0.92273844,\n",
              "       0.92427302, 0.65537161, 0.90371014, 0.06654667, 0.92723868,\n",
              "       0.46961866, 0.03972561, 0.57490544, 0.43086134, 0.65618217,\n",
              "       0.96340824, 0.98218192, 0.94499647, 0.17100465, 0.88459089,\n",
              "       0.87607145, 0.16438261, 0.9000359 , 0.13081525, 0.85754897,\n",
              "       0.49428304, 0.84204404, 0.79702622, 0.27630828, 0.8670935 ,\n",
              "       0.20890976, 0.91398892, 0.06280439, 0.89252572, 0.86490309,\n",
              "       0.91986632, 0.96104123, 0.42133551, 0.94352064, 0.18099706,\n",
              "       0.16926354, 0.87167562, 0.74452586, 0.92447493, 0.87607145,\n",
              "       0.33597115, 0.96791762, 0.782877  , 0.91972062, 0.87163322,\n",
              "       0.12821891, 0.91401474, 0.85745513, 0.85903743, 0.89996319,\n",
              "       0.03681221, 0.1801056 , 0.66074471, 0.52801354, 0.54883785,\n",
              "       0.93096402, 0.0620483 , 0.55920482, 0.93813552, 0.11622984,\n",
              "       0.83328688, 0.94681429, 0.89252572, 0.89597011, 0.08535999,\n",
              "       0.04801702, 0.17574534, 0.37654233, 0.94051368, 0.89448363,\n",
              "       0.32711639, 0.24692265, 0.73206475, 0.95445923, 0.27627037,\n",
              "       0.88290184, 0.42084117, 0.31841988, 0.93948936, 0.48678364,\n",
              "       0.68227214, 0.84676354, 0.90155645, 0.91669696, 0.88069505,\n",
              "       0.2592758 , 0.62532877, 0.44405005, 0.85238719, 0.63916041,\n",
              "       0.51441146, 0.32711639, 0.85056564, 0.35571444, 0.08845365,\n",
              "       0.21933071, 0.77304909, 0.40726361, 0.32098828, 0.06446274,\n",
              "       0.77354396, 0.0390354 , 0.35471754, 0.9198972 , 0.88056726,\n",
              "       0.95072668, 0.82783118, 0.07762679, 0.52718363, 0.56853549,\n",
              "       0.91039597, 0.90360029, 0.71597703, 0.84204404, 0.93350743,\n",
              "       0.91033737, 0.90000988, 0.68882935, 0.938177  , 0.56853248,\n",
              "       0.38224895, 0.85754288, 0.29622035])"
            ]
          },
          "metadata": {},
          "execution_count": 24
        }
      ]
    },
    {
      "cell_type": "code",
      "metadata": {
        "id": "1alEsZ4Mk42z",
        "colab": {
          "base_uri": "https://localhost:8080/"
        },
        "outputId": "0b7355c7-7e61-4462-c7b3-05396a3f61f4"
      },
      "source": [
        "model.predict_proba(X_test)[:,1]"
      ],
      "execution_count": 25,
      "outputs": [
        {
          "output_type": "execute_result",
          "data": {
            "text/plain": [
              "array([0.14249976, 0.12836678, 0.84346374, 0.25130978, 0.147461  ,\n",
              "       0.06914372, 0.04391295, 0.81855612, 0.05933586, 0.92048035,\n",
              "       0.10367249, 0.08962438, 0.70717627, 0.27408331, 0.51344296,\n",
              "       0.12833999, 0.86329505, 0.28402297, 0.06172396, 0.24380984,\n",
              "       0.76242921, 0.21636427, 0.64577532, 0.68168402, 0.65368972,\n",
              "       0.66405331, 0.32795298, 0.72368373, 0.60119454, 0.35539963,\n",
              "       0.10002334, 0.80384473, 0.8981801 , 0.8221613 , 0.7365239 ,\n",
              "       0.09288797, 0.12840808, 0.12836678, 0.13260806, 0.3687669 ,\n",
              "       0.09959006, 0.95793991, 0.92469388, 0.72951812, 0.06903979,\n",
              "       0.09645664, 0.10616903, 0.11301865, 0.17216882, 0.08640075,\n",
              "       0.0617101 , 0.11292888, 0.11400541, 0.52161388, 0.07726156,\n",
              "       0.07572698, 0.34462839, 0.09628986, 0.93345333, 0.07276132,\n",
              "       0.53038134, 0.96027439, 0.42509456, 0.56913866, 0.34381783,\n",
              "       0.03659176, 0.01781808, 0.05500353, 0.82899535, 0.11540911,\n",
              "       0.12392855, 0.83561739, 0.0999641 , 0.86918475, 0.14245103,\n",
              "       0.50571696, 0.15795596, 0.20297378, 0.72369172, 0.1329065 ,\n",
              "       0.79109024, 0.08601108, 0.93719561, 0.10747428, 0.13509691,\n",
              "       0.08013368, 0.03895877, 0.57866449, 0.05647936, 0.81900294,\n",
              "       0.83073646, 0.12832438, 0.25547414, 0.07552507, 0.12392855,\n",
              "       0.66402885, 0.03208238, 0.217123  , 0.08027938, 0.12836678,\n",
              "       0.87178109, 0.08598526, 0.14254487, 0.14096257, 0.10003681,\n",
              "       0.96318779, 0.8198944 , 0.33925529, 0.47198646, 0.45116215,\n",
              "       0.06903598, 0.9379517 , 0.44079518, 0.06186448, 0.88377016,\n",
              "       0.16671312, 0.05318571, 0.10747428, 0.10402989, 0.91464001,\n",
              "       0.95198298, 0.82425466, 0.62345767, 0.05948632, 0.10551637,\n",
              "       0.67288361, 0.75307735, 0.26793525, 0.04554077, 0.72372963,\n",
              "       0.11709816, 0.57915883, 0.68158012, 0.06051064, 0.51321636,\n",
              "       0.31772786, 0.15323646, 0.09844355, 0.08330304, 0.11930495,\n",
              "       0.7407242 , 0.37467123, 0.55594995, 0.14761281, 0.36083959,\n",
              "       0.48558854, 0.67288361, 0.14943436, 0.64428556, 0.91154635,\n",
              "       0.78066929, 0.22695091, 0.59273639, 0.67901172, 0.93553726,\n",
              "       0.22645604, 0.9609646 , 0.64528246, 0.0801028 , 0.11943274,\n",
              "       0.04927332, 0.17216882, 0.92237321, 0.47281637, 0.43146451,\n",
              "       0.08960403, 0.09639971, 0.28402297, 0.15795596, 0.06649257,\n",
              "       0.08966263, 0.09999012, 0.31117065, 0.061823  , 0.43146752,\n",
              "       0.61775105, 0.14245712, 0.70377965])"
            ]
          },
          "metadata": {},
          "execution_count": 25
        }
      ]
    },
    {
      "cell_type": "code",
      "metadata": {
        "colab": {
          "base_uri": "https://localhost:8080/"
        },
        "id": "nJgmUz11ZHsl",
        "outputId": "90ab141c-c458-484b-d6c6-e74f787563be"
      },
      "source": [
        "y_pred[:]"
      ],
      "execution_count": 26,
      "outputs": [
        {
          "output_type": "execute_result",
          "data": {
            "text/plain": [
              "array([0, 0, 1, 0, 0, 0, 0, 1, 0, 1, 0, 0, 1, 0, 1, 0, 1, 0, 0, 0, 1, 0,\n",
              "       1, 1, 1, 1, 0, 1, 1, 0, 0, 1, 1, 1, 1, 0, 0, 0, 0, 0, 0, 1, 1, 1,\n",
              "       0, 0, 0, 0, 0, 0, 0, 0, 0, 1, 0, 0, 0, 0, 1, 0, 1, 1, 0, 1, 0, 0,\n",
              "       0, 0, 1, 0, 0, 1, 0, 1, 0, 1, 0, 0, 1, 0, 1, 0, 1, 0, 0, 0, 0, 1,\n",
              "       0, 1, 1, 0, 0, 0, 0, 1, 0, 0, 0, 0, 1, 0, 0, 0, 0, 1, 1, 0, 0, 0,\n",
              "       0, 1, 0, 0, 1, 0, 0, 0, 0, 1, 1, 1, 1, 0, 0, 1, 1, 0, 0, 1, 0, 1,\n",
              "       1, 0, 1, 0, 0, 0, 0, 0, 1, 0, 1, 0, 0, 0, 1, 0, 1, 1, 1, 0, 1, 1,\n",
              "       1, 0, 1, 1, 0, 0, 0, 0, 1, 0, 0, 0, 0, 0, 0, 0, 0, 0, 0, 0, 0, 1,\n",
              "       0, 1])"
            ]
          },
          "metadata": {},
          "execution_count": 26
        }
      ]
    },
    {
      "cell_type": "code",
      "metadata": {
        "id": "4NNM1vgOlY_i",
        "colab": {
          "base_uri": "https://localhost:8080/"
        },
        "outputId": "4164426c-90e2-42d3-dccb-d3959534fc83"
      },
      "source": [
        "y.shape"
      ],
      "execution_count": 27,
      "outputs": [
        {
          "output_type": "execute_result",
          "data": {
            "text/plain": [
              "(887,)"
            ]
          },
          "metadata": {},
          "execution_count": 27
        }
      ]
    },
    {
      "cell_type": "code",
      "metadata": {
        "id": "XHkYhBcYlcOq",
        "colab": {
          "base_uri": "https://localhost:8080/"
        },
        "outputId": "b4d6cc88-d220-411f-aa38-50ce225ef9f4"
      },
      "source": [
        "y.sum() #Personas que sobrevivieron"
      ],
      "execution_count": 28,
      "outputs": [
        {
          "output_type": "execute_result",
          "data": {
            "text/plain": [
              "342"
            ]
          },
          "metadata": {},
          "execution_count": 28
        }
      ]
    },
    {
      "cell_type": "code",
      "metadata": {
        "id": "34iOMQYTl1N3",
        "colab": {
          "base_uri": "https://localhost:8080/"
        },
        "outputId": "adb32fc7-9320-4d2d-dfdb-d0b4b5500177"
      },
      "source": [
        "y.shape - y.sum() #Personas que no sobrevivieron"
      ],
      "execution_count": 29,
      "outputs": [
        {
          "output_type": "execute_result",
          "data": {
            "text/plain": [
              "array([545])"
            ]
          },
          "metadata": {},
          "execution_count": 29
        }
      ]
    },
    {
      "cell_type": "markdown",
      "metadata": {
        "id": "axU_dgYcoSi5"
      },
      "source": [
        "#Métricas\n",
        "Accuracy = suma (número) de predicciones correctas / total de predicciones\n"
      ]
    },
    {
      "cell_type": "code",
      "metadata": {
        "id": "StEYnLU9ogAl",
        "colab": {
          "base_uri": "https://localhost:8080/"
        },
        "outputId": "b06f8f00-f462-4433-9cca-abd89734c887"
      },
      "source": [
        "y_pred == y_test"
      ],
      "execution_count": 30,
      "outputs": [
        {
          "output_type": "execute_result",
          "data": {
            "text/plain": [
              "array([ True,  True,  True,  True,  True,  True,  True,  True,  True,\n",
              "        True,  True, False,  True,  True,  True,  True, False,  True,\n",
              "        True,  True,  True, False, False, False, False, False, False,\n",
              "        True,  True,  True,  True,  True,  True,  True,  True,  True,\n",
              "        True,  True,  True,  True, False,  True,  True, False,  True,\n",
              "        True,  True,  True,  True,  True,  True,  True, False,  True,\n",
              "        True,  True,  True,  True,  True,  True, False,  True,  True,\n",
              "        True,  True,  True,  True,  True,  True,  True,  True,  True,\n",
              "        True,  True,  True, False, False,  True,  True,  True,  True,\n",
              "        True,  True,  True,  True,  True,  True, False,  True,  True,\n",
              "        True,  True,  True,  True,  True,  True,  True,  True,  True,\n",
              "        True,  True,  True, False, False, False,  True,  True,  True,\n",
              "       False, False,  True,  True,  True,  True,  True,  True,  True,\n",
              "        True,  True,  True,  True,  True, False,  True, False,  True,\n",
              "        True,  True,  True,  True,  True, False, False,  True,  True,\n",
              "        True, False,  True,  True, False,  True,  True, False,  True,\n",
              "        True,  True,  True,  True,  True,  True,  True,  True, False,\n",
              "        True,  True,  True,  True,  True,  True, False,  True,  True,\n",
              "        True, False, False,  True,  True,  True,  True,  True, False,\n",
              "        True,  True,  True,  True, False,  True,  True])"
            ]
          },
          "metadata": {},
          "execution_count": 30
        }
      ]
    },
    {
      "cell_type": "code",
      "metadata": {
        "id": "jzGRAoTNosQX",
        "colab": {
          "base_uri": "https://localhost:8080/"
        },
        "outputId": "b6de7a7a-36e6-42df-939a-659d1233ccdf"
      },
      "source": [
        "(y_pred == y_test).sum()"
      ],
      "execution_count": 31,
      "outputs": [
        {
          "output_type": "execute_result",
          "data": {
            "text/plain": [
              "145"
            ]
          },
          "metadata": {},
          "execution_count": 31
        }
      ]
    },
    {
      "cell_type": "code",
      "metadata": {
        "id": "4jEZSTndo0HT",
        "colab": {
          "base_uri": "https://localhost:8080/"
        },
        "outputId": "8fdd103a-17ea-4f3d-e35a-3eb945b226a9"
      },
      "source": [
        "y_test.shape"
      ],
      "execution_count": 32,
      "outputs": [
        {
          "output_type": "execute_result",
          "data": {
            "text/plain": [
              "(178,)"
            ]
          },
          "metadata": {},
          "execution_count": 32
        }
      ]
    },
    {
      "cell_type": "code",
      "metadata": {
        "id": "qqEOCoB5o6vN",
        "colab": {
          "base_uri": "https://localhost:8080/"
        },
        "outputId": "22d93865-6ee0-4507-f5fd-3303902ba540"
      },
      "source": [
        "accuracy = (y_pred == y_test).sum() / y_test.shape\n",
        "accuracy"
      ],
      "execution_count": 33,
      "outputs": [
        {
          "output_type": "execute_result",
          "data": {
            "text/plain": [
              "array([0.81460674])"
            ]
          },
          "metadata": {},
          "execution_count": 33
        }
      ]
    },
    {
      "cell_type": "markdown",
      "metadata": {
        "id": "NlxJftTopL2e"
      },
      "source": [
        "#Matriz de confusión"
      ]
    },
    {
      "cell_type": "code",
      "metadata": {
        "id": "bUkExQ1fpOVk",
        "colab": {
          "base_uri": "https://localhost:8080/"
        },
        "outputId": "fc158610-690d-453c-dbac-64aa1387ae60"
      },
      "source": [
        "confusion_matrix(y_test,y_pred)"
      ],
      "execution_count": 34,
      "outputs": [
        {
          "output_type": "execute_result",
          "data": {
            "text/plain": [
              "array([[95, 15],\n",
              "       [18, 50]])"
            ]
          },
          "metadata": {},
          "execution_count": 34
        }
      ]
    },
    {
      "cell_type": "code",
      "metadata": {
        "id": "OqSxCvczrhTm",
        "colab": {
          "base_uri": "https://localhost:8080/",
          "height": 351
        },
        "outputId": "81ab44b0-60d6-4272-df19-bc9a55352a19"
      },
      "source": [
        "plot_confusion_matrix(model,X_test,y_test)"
      ],
      "execution_count": 35,
      "outputs": [
        {
          "output_type": "stream",
          "name": "stderr",
          "text": [
            "/usr/local/lib/python3.7/dist-packages/sklearn/utils/deprecation.py:87: FutureWarning: Function plot_confusion_matrix is deprecated; Function `plot_confusion_matrix` is deprecated in 1.0 and will be removed in 1.2. Use one of the class methods: ConfusionMatrixDisplay.from_predictions or ConfusionMatrixDisplay.from_estimator.\n",
            "  warnings.warn(msg, category=FutureWarning)\n"
          ]
        },
        {
          "output_type": "execute_result",
          "data": {
            "text/plain": [
              "<sklearn.metrics._plot.confusion_matrix.ConfusionMatrixDisplay at 0x7f7829a11810>"
            ]
          },
          "metadata": {},
          "execution_count": 35
        },
        {
          "output_type": "display_data",
          "data": {
            "image/png": "[encoded data removed]",
            "text/plain": [
              "<Figure size 432x288 with 2 Axes>"
            ]
          },
          "metadata": {
            "needs_background": "light"
          }
        }
      ]
    },
    {
      "cell_type": "code",
      "metadata": {
        "id": "U_s_2cLapVmF",
        "colab": {
          "base_uri": "https://localhost:8080/",
          "height": 351
        },
        "outputId": "d3e4b6f7-4f06-4ae7-b96c-be273302b839"
      },
      "source": [
        "labels = [\"Not survived\", \"Survived\"]\n",
        "plot_confusion_matrix(model,X_test,y_test, display_labels=labels)"
      ],
      "execution_count": 36,
      "outputs": [
        {
          "output_type": "stream",
          "name": "stderr",
          "text": [
            "/usr/local/lib/python3.7/dist-packages/sklearn/utils/deprecation.py:87: FutureWarning: Function plot_confusion_matrix is deprecated; Function `plot_confusion_matrix` is deprecated in 1.0 and will be removed in 1.2. Use one of the class methods: ConfusionMatrixDisplay.from_predictions or ConfusionMatrixDisplay.from_estimator.\n",
            "  warnings.warn(msg, category=FutureWarning)\n"
          ]
        },
        {
          "output_type": "execute_result",
          "data": {
            "text/plain": [
              "<sklearn.metrics._plot.confusion_matrix.ConfusionMatrixDisplay at 0x7f782939ee90>"
            ]
          },
          "metadata": {},
          "execution_count": 36
        },
        {
          "output_type": "display_data",
          "data": {
            "image/png": "[encoded data removed]",
            "text/plain": [
              "<Figure size 432x288 with 2 Axes>"
            ]
          },
          "metadata": {
            "needs_background": "light"
          }
        }
      ]
    },
    {
      "cell_type": "code",
      "metadata": {
        "id": "DUE94aOmryfZ",
        "colab": {
          "base_uri": "https://localhost:8080/"
        },
        "outputId": "02034e9a-211b-4ceb-d98e-2fb0ad622830"
      },
      "source": [
        "labels = [\"Not survived\", \"Survived\"]\n",
        "print(classification_report(y_test,y_pred, target_names=labels))"
      ],
      "execution_count": 37,
      "outputs": [
        {
          "output_type": "stream",
          "name": "stdout",
          "text": [
            "              precision    recall  f1-score   support\n",
            "\n",
            "Not survived       0.84      0.86      0.85       110\n",
            "    Survived       0.77      0.74      0.75        68\n",
            "\n",
            "    accuracy                           0.81       178\n",
            "   macro avg       0.80      0.80      0.80       178\n",
            "weighted avg       0.81      0.81      0.81       178\n",
            "\n"
          ]
        }
      ]
    },
    {
      "cell_type": "markdown",
      "metadata": {
        "id": "5vvfdDB_bl2F"
      },
      "source": [
        "#Accuracy de la Confusión Matrix"
      ]
    },
    {
      "cell_type": "markdown",
      "metadata": {
        "id": "SssUcwXccI83"
      },
      "source": [
        "accuracy = suma de predicciones correctas / total de predicciones"
      ]
    },
    {
      "cell_type": "code",
      "metadata": {
        "colab": {
          "base_uri": "https://localhost:8080/"
        },
        "id": "RI8BzbPgbq7r",
        "outputId": "9739a9cb-e36e-45de-dcc3-3b5acbe79ffc"
      },
      "source": [
        "accuracy = (95 + 50) / (95 + 50 + 15 +18)\n",
        "accuracy"
      ],
      "execution_count": 38,
      "outputs": [
        {
          "output_type": "execute_result",
          "data": {
            "text/plain": [
              "0.8146067415730337"
            ]
          },
          "metadata": {},
          "execution_count": 38
        }
      ]
    },
    {
      "cell_type": "markdown",
      "metadata": {
        "id": "thx4PqGgfsux"
      },
      "source": [
        "# Precisión \n",
        "\n",
        "¿Qué proporción de identificaciones positivas fue realmente correcta?\n",
        "\n",
        "precision = positivos predichos / predicciones positivas"
      ]
    },
    {
      "cell_type": "code",
      "metadata": {
        "colab": {
          "base_uri": "https://localhost:8080/"
        },
        "id": "WRG_FRKDf8Lc",
        "outputId": "4bba6576-79e9-4e9a-cbf0-aa2c4d29d3ef"
      },
      "source": [
        "precision = 50 / (50 + 15)\n",
        "precision"
      ],
      "execution_count": 39,
      "outputs": [
        {
          "output_type": "execute_result",
          "data": {
            "text/plain": [
              "0.7692307692307693"
            ]
          },
          "metadata": {},
          "execution_count": 39
        }
      ]
    },
    {
      "cell_type": "markdown",
      "metadata": {
        "id": "-WG-SCFRs6OW"
      },
      "source": [
        "# Recall\n",
        "\n",
        "¿Qué proporcion de positivos reales se identifico correctamente?\n",
        "\n",
        "recall = True positive / (True positive + False Negative)"
      ]
    },
    {
      "cell_type": "code",
      "metadata": {
        "colab": {
          "base_uri": "https://localhost:8080/"
        },
        "id": "2R3PwHcXtMl8",
        "outputId": "6e831ec1-4222-4945-87a7-8305d5843bac"
      },
      "source": [
        "recall = 50 / (50 +18)\n",
        "recall"
      ],
      "execution_count": 40,
      "outputs": [
        {
          "output_type": "execute_result",
          "data": {
            "text/plain": [
              "0.7352941176470589"
            ]
          },
          "metadata": {},
          "execution_count": 40
        }
      ]
    },
    {
      "cell_type": "markdown",
      "metadata": {
        "id": "u7mDr2wFtRA3"
      },
      "source": [
        "# F1 Score\n",
        "\n",
        "Es el promedio de precisión y recall\n",
        "\n",
        "f1_score = 2 * ((precision * recall) / (precision + recall))"
      ]
    },
    {
      "cell_type": "code",
      "metadata": {
        "colab": {
          "base_uri": "https://localhost:8080/"
        },
        "id": "i0y2a9KNtiwc",
        "outputId": "3451deda-e383-4a89-9717-12264a09ae40"
      },
      "source": [
        "f1 = 2 * ((precision * recall) / (precision + recall))\n",
        "f1"
      ],
      "execution_count": 41,
      "outputs": [
        {
          "output_type": "execute_result",
          "data": {
            "text/plain": [
              "0.7518796992481205"
            ]
          },
          "metadata": {},
          "execution_count": 41
        }
      ]
    },
    {
      "cell_type": "markdown",
      "metadata": {
        "id": "02GOUxpit5Ki"
      },
      "source": [
        "#SKLearn Metrics"
      ]
    },
    {
      "cell_type": "code",
      "metadata": {
        "colab": {
          "base_uri": "https://localhost:8080/"
        },
        "id": "hRAdRU5ot8o3",
        "outputId": "9cde7ec2-8493-4851-cfce-55bd3a531faa"
      },
      "source": [
        "print(\"Accuracy: {} : {}\".format(accuracy,accuracy_score(y_test,y_pred)))"
      ],
      "execution_count": 42,
      "outputs": [
        {
          "output_type": "stream",
          "name": "stdout",
          "text": [
            "Accuracy: 0.8146067415730337 : 0.8146067415730337\n"
          ]
        }
      ]
    },
    {
      "cell_type": "code",
      "metadata": {
        "colab": {
          "base_uri": "https://localhost:8080/"
        },
        "id": "hwhdX-dAuOzF",
        "outputId": "e0f3f696-f6f2-4f68-8edc-5b5bf92cbbba"
      },
      "source": [
        "print(\"Precisión: {} : {}\".format(precision,precision_score(y_test,y_pred)))"
      ],
      "execution_count": 43,
      "outputs": [
        {
          "output_type": "stream",
          "name": "stdout",
          "text": [
            "Precisión: 0.7692307692307693 : 0.7692307692307693\n"
          ]
        }
      ]
    },
    {
      "cell_type": "code",
      "metadata": {
        "colab": {
          "base_uri": "https://localhost:8080/"
        },
        "id": "VL6WCvD_ua6d",
        "outputId": "b1a79797-039c-48d9-e238-2123fa8774cc"
      },
      "source": [
        "print(\"Recall: {} : {}\".format(recall,recall_score(y_test,y_pred)))"
      ],
      "execution_count": 44,
      "outputs": [
        {
          "output_type": "stream",
          "name": "stdout",
          "text": [
            "Recall: 0.7352941176470589 : 0.7352941176470589\n"
          ]
        }
      ]
    },
    {
      "cell_type": "code",
      "metadata": {
        "colab": {
          "base_uri": "https://localhost:8080/"
        },
        "id": "SCg9tDbKukM_",
        "outputId": "3f78bcc6-dfc3-4c07-b6ee-4aeb211d0bf9"
      },
      "source": [
        "print(\"F1 Score: {} : {}\".format(f1,f1_score(y_test,y_pred)))"
      ],
      "execution_count": 45,
      "outputs": [
        {
          "output_type": "stream",
          "name": "stdout",
          "text": [
            "F1 Score: 0.7518796992481205 : 0.7518796992481205\n"
          ]
        }
      ]
    },
    {
      "cell_type": "code",
      "metadata": {
        "id": "XPmj80wluvw3",
        "colab": {
          "base_uri": "https://localhost:8080/"
        },
        "outputId": "f86efe5a-9811-4331-b756-cd5bc5497f38"
      },
      "source": [
        "print(classification_report(y_test,y_pred))"
      ],
      "execution_count": 46,
      "outputs": [
        {
          "output_type": "stream",
          "name": "stdout",
          "text": [
            "              precision    recall  f1-score   support\n",
            "\n",
            "           0       0.84      0.86      0.85       110\n",
            "           1       0.77      0.74      0.75        68\n",
            "\n",
            "    accuracy                           0.81       178\n",
            "   macro avg       0.80      0.80      0.80       178\n",
            "weighted avg       0.81      0.81      0.81       178\n",
            "\n"
          ]
        }
      ]
    },
    {
      "cell_type": "markdown",
      "metadata": {
        "id": "FVSm9Nucnmiv"
      },
      "source": [
        "# Cambiar el umbral (Threshold)"
      ]
    },
    {
      "cell_type": "code",
      "metadata": {
        "colab": {
          "base_uri": "https://localhost:8080/"
        },
        "id": "k4gm39iVnp3w",
        "outputId": "45d320d0-ee59-47b5-d3b2-270e0dfa8dc9"
      },
      "source": [
        "model.predict_proba(X_test)[:,1]"
      ],
      "execution_count": 50,
      "outputs": [
        {
          "output_type": "execute_result",
          "data": {
            "text/plain": [
              "array([0.14249976, 0.12836678, 0.84346374, 0.25130978, 0.147461  ,\n",
              "       0.06914372, 0.04391295, 0.81855612, 0.05933586, 0.92048035,\n",
              "       0.10367249, 0.08962438, 0.70717627, 0.27408331, 0.51344296,\n",
              "       0.12833999, 0.86329505, 0.28402297, 0.06172396, 0.24380984,\n",
              "       0.76242921, 0.21636427, 0.64577532, 0.68168402, 0.65368972,\n",
              "       0.66405331, 0.32795298, 0.72368373, 0.60119454, 0.35539963,\n",
              "       0.10002334, 0.80384473, 0.8981801 , 0.8221613 , 0.7365239 ,\n",
              "       0.09288797, 0.12840808, 0.12836678, 0.13260806, 0.3687669 ,\n",
              "       0.09959006, 0.95793991, 0.92469388, 0.72951812, 0.06903979,\n",
              "       0.09645664, 0.10616903, 0.11301865, 0.17216882, 0.08640075,\n",
              "       0.0617101 , 0.11292888, 0.11400541, 0.52161388, 0.07726156,\n",
              "       0.07572698, 0.34462839, 0.09628986, 0.93345333, 0.07276132,\n",
              "       0.53038134, 0.96027439, 0.42509456, 0.56913866, 0.34381783,\n",
              "       0.03659176, 0.01781808, 0.05500353, 0.82899535, 0.11540911,\n",
              "       0.12392855, 0.83561739, 0.0999641 , 0.86918475, 0.14245103,\n",
              "       0.50571696, 0.15795596, 0.20297378, 0.72369172, 0.1329065 ,\n",
              "       0.79109024, 0.08601108, 0.93719561, 0.10747428, 0.13509691,\n",
              "       0.08013368, 0.03895877, 0.57866449, 0.05647936, 0.81900294,\n",
              "       0.83073646, 0.12832438, 0.25547414, 0.07552507, 0.12392855,\n",
              "       0.66402885, 0.03208238, 0.217123  , 0.08027938, 0.12836678,\n",
              "       0.87178109, 0.08598526, 0.14254487, 0.14096257, 0.10003681,\n",
              "       0.96318779, 0.8198944 , 0.33925529, 0.47198646, 0.45116215,\n",
              "       0.06903598, 0.9379517 , 0.44079518, 0.06186448, 0.88377016,\n",
              "       0.16671312, 0.05318571, 0.10747428, 0.10402989, 0.91464001,\n",
              "       0.95198298, 0.82425466, 0.62345767, 0.05948632, 0.10551637,\n",
              "       0.67288361, 0.75307735, 0.26793525, 0.04554077, 0.72372963,\n",
              "       0.11709816, 0.57915883, 0.68158012, 0.06051064, 0.51321636,\n",
              "       0.31772786, 0.15323646, 0.09844355, 0.08330304, 0.11930495,\n",
              "       0.7407242 , 0.37467123, 0.55594995, 0.14761281, 0.36083959,\n",
              "       0.48558854, 0.67288361, 0.14943436, 0.64428556, 0.91154635,\n",
              "       0.78066929, 0.22695091, 0.59273639, 0.67901172, 0.93553726,\n",
              "       0.22645604, 0.9609646 , 0.64528246, 0.0801028 , 0.11943274,\n",
              "       0.04927332, 0.17216882, 0.92237321, 0.47281637, 0.43146451,\n",
              "       0.08960403, 0.09639971, 0.28402297, 0.15795596, 0.06649257,\n",
              "       0.08966263, 0.09999012, 0.31117065, 0.061823  , 0.43146752,\n",
              "       0.61775105, 0.14245712, 0.70377965])"
            ]
          },
          "metadata": {},
          "execution_count": 50
        }
      ]
    },
    {
      "cell_type": "code",
      "metadata": {
        "colab": {
          "base_uri": "https://localhost:8080/"
        },
        "id": "foKFDqdNoV1x",
        "outputId": "e7bec38f-616c-47ff-8afc-6df22ecd6748"
      },
      "source": [
        "model.predict_proba(X_test)[:,1] > 0.75"
      ],
      "execution_count": 51,
      "outputs": [
        {
          "output_type": "execute_result",
          "data": {
            "text/plain": [
              "array([False, False,  True, False, False, False, False,  True, False,\n",
              "        True, False, False, False, False, False, False,  True, False,\n",
              "       False, False,  True, False, False, False, False, False, False,\n",
              "       False, False, False, False,  True,  True,  True, False, False,\n",
              "       False, False, False, False, False,  True,  True, False, False,\n",
              "       False, False, False, False, False, False, False, False, False,\n",
              "       False, False, False, False,  True, False, False,  True, False,\n",
              "       False, False, False, False, False,  True, False, False,  True,\n",
              "       False,  True, False, False, False, False, False, False,  True,\n",
              "       False,  True, False, False, False, False, False, False,  True,\n",
              "        True, False, False, False, False, False, False, False, False,\n",
              "       False,  True, False, False, False, False,  True,  True, False,\n",
              "       False, False, False,  True, False, False,  True, False, False,\n",
              "       False, False,  True,  True,  True, False, False, False, False,\n",
              "        True, False, False, False, False, False, False, False, False,\n",
              "       False, False, False, False, False, False, False, False, False,\n",
              "       False, False, False, False, False,  True,  True, False, False,\n",
              "       False,  True, False,  True, False, False, False, False, False,\n",
              "        True, False, False, False, False, False, False, False, False,\n",
              "       False, False, False, False, False, False, False])"
            ]
          },
          "metadata": {},
          "execution_count": 51
        }
      ]
    },
    {
      "cell_type": "code",
      "metadata": {
        "colab": {
          "base_uri": "https://localhost:8080/"
        },
        "id": "RafDm4eAofWT",
        "outputId": "66dbec11-f25d-4731-cb11-5367b387e874"
      },
      "source": [
        "model.predict_proba(X_test)[:,1] >= 0.5"
      ],
      "execution_count": 52,
      "outputs": [
        {
          "output_type": "execute_result",
          "data": {
            "text/plain": [
              "array([False, False,  True, False, False, False, False,  True, False,\n",
              "        True, False, False,  True, False,  True, False,  True, False,\n",
              "       False, False,  True, False,  True,  True,  True,  True, False,\n",
              "        True,  True, False, False,  True,  True,  True,  True, False,\n",
              "       False, False, False, False, False,  True,  True,  True, False,\n",
              "       False, False, False, False, False, False, False, False,  True,\n",
              "       False, False, False, False,  True, False,  True,  True, False,\n",
              "        True, False, False, False, False,  True, False, False,  True,\n",
              "       False,  True, False,  True, False, False,  True, False,  True,\n",
              "       False,  True, False, False, False, False,  True, False,  True,\n",
              "        True, False, False, False, False,  True, False, False, False,\n",
              "       False,  True, False, False, False, False,  True,  True, False,\n",
              "       False, False, False,  True, False, False,  True, False, False,\n",
              "       False, False,  True,  True,  True,  True, False, False,  True,\n",
              "        True, False, False,  True, False,  True,  True, False,  True,\n",
              "       False, False, False, False, False,  True, False,  True, False,\n",
              "       False, False,  True, False,  True,  True,  True, False,  True,\n",
              "        True,  True, False,  True,  True, False, False, False, False,\n",
              "        True, False, False, False, False, False, False, False, False,\n",
              "       False, False, False, False,  True, False,  True])"
            ]
          },
          "metadata": {},
          "execution_count": 52
        }
      ]
    },
    {
      "cell_type": "code",
      "metadata": {
        "id": "ZoiJqQPBoshw"
      },
      "source": [
        "y_pred = model.predict_proba(X_test)[:,1] > 0.75"
      ],
      "execution_count": 53,
      "outputs": []
    },
    {
      "cell_type": "code",
      "metadata": {
        "colab": {
          "base_uri": "https://localhost:8080/"
        },
        "id": "sRo0RuHCov-_",
        "outputId": "5d38fa49-4234-4a19-91da-699af129c2bb"
      },
      "source": [
        "print(classification_report(y_test,y_pred))"
      ],
      "execution_count": 54,
      "outputs": [
        {
          "output_type": "stream",
          "name": "stdout",
          "text": [
            "              precision    recall  f1-score   support\n",
            "\n",
            "           0       0.75      0.99      0.85       110\n",
            "           1       0.97      0.47      0.63        68\n",
            "\n",
            "    accuracy                           0.79       178\n",
            "   macro avg       0.86      0.73      0.74       178\n",
            "weighted avg       0.83      0.79      0.77       178\n",
            "\n"
          ]
        }
      ]
    },
    {
      "cell_type": "markdown",
      "metadata": {
        "id": "Ye3ppZb_qFLb"
      },
      "source": [
        "# Conclusión\n",
        "\n",
        "Esta práctica me confuso un poco porque había partes que no entendia muy bien y tuve que hacer un poco de investigación para poder aclarar mejor mis dudas pero eso de analizar los datos es un tema muy complicado y también extenso, pero estuvo interesante la actividad. Los análisis de los datos es uno de los temas que más me llamo la atención ya que pues cuando estemos en la vida laboral esto nos va a servir de mucho. "
      ]
    }
  ]
}