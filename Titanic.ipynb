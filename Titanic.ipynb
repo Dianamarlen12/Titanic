{
  "nbformat": 4,
  "nbformat_minor": 0,
  "metadata": {
    "colab": {
      "name": "Titanic.ipynb",
      "provenance": [],
      "collapsed_sections": [],
      "authorship_tag": "ABX9TyPJjf3Ld1x+BehFdPaeZ05J",
      "include_colab_link": true
    },
    "kernelspec": {
      "name": "python3",
      "display_name": "Python 3"
    },
    "language_info": {
      "name": "python"
    }
  },
  "cells": [
    {
      "cell_type": "markdown",
      "metadata": {
        "id": "view-in-github",
        "colab_type": "text"
      },
      "source": [
        "<a href=\"https://colab.research.google.com/github/Dianamarlen12/Titanic/blob/main/Titanic.ipynb\" target=\"_parent\"><img src=\"https://colab.research.google.com/assets/colab-badge.svg\" alt=\"Open In Colab\"/></a>"
      ]
    },
    {
      "cell_type": "markdown",
      "metadata": {
        "id": "DOBBD3-M67GD"
      },
      "source": [
        "# Importar librerias"
      ]
    },
    {
      "cell_type": "code",
      "metadata": {
        "id": "WHhUZDp16_F1"
      },
      "source": [
        "import pandas as pd\n",
        "import numpy as np\n",
        "import matplotlib.pyplot as plt\n",
        "\n",
        "from sklearn.linear_model import LogisticRegression #Regresión Logistica (permite clasificar 0 y 1)\n",
        "\n",
        "from sklearn.model_selection import train_test_split #Nos permite separar nuestros datos en traing y testing\n",
        "\n",
        "#Metricas \n",
        "from sklearn.metrics import accuracy_score, precision_score, recall_score, f1_score #Métricas que se utilizaran \n",
        "from sklearn.metrics import classification_report #Genarar todas las métricas de evaluación\n",
        "from sklearn.metrics import confusion_matrix #Matriz de confusión (como salen los valores correcta y incorrecta)\n",
        "from sklearn.metrics import plot_confusion_matrix #Función para gráficar la matriz de confusión\n",
        "\n",
        "pd.options.display.max_columns = 4 #Columnas que queremos que nos muestre"
      ],
      "execution_count": null,
      "outputs": []
    },
    {
      "cell_type": "markdown",
      "metadata": {
        "id": "72sOhAGD8wZG"
      },
      "source": [
        "# Importar dataset"
      ]
    },
    {
      "cell_type": "code",
      "metadata": {
        "id": "z5KpN_E78ykp"
      },
      "source": [
        "df = pd.read_csv(\"titanic.csv\")"
      ],
      "execution_count": null,
      "outputs": []
    },
    {
      "cell_type": "markdown",
      "metadata": {
        "id": "pDCwgSUo85d6"
      },
      "source": [
        "#Analizar el dataframe"
      ]
    },
    {
      "cell_type": "code",
      "metadata": {
        "id": "yr0trA8087g9"
      },
      "source": [
        "df.info()"
      ],
      "execution_count": null,
      "outputs": []
    },
    {
      "cell_type": "code",
      "metadata": {
        "id": "3Nq7CIng9C4n"
      },
      "source": [
        "df.head()"
      ],
      "execution_count": null,
      "outputs": []
    },
    {
      "cell_type": "code",
      "metadata": {
        "id": "FKoyV03A9NTn"
      },
      "source": [
        "df.describe()"
      ],
      "execution_count": null,
      "outputs": []
    },
    {
      "cell_type": "markdown",
      "metadata": {
        "id": "Ql_XRHl-9aba"
      },
      "source": [
        "#Crear una columna (Feature Ingeniring)"
      ]
    },
    {
      "cell_type": "code",
      "metadata": {
        "id": "PJC0K7lJ-y34"
      },
      "source": [
        "df['Male'] = df['Sex'] == 'male' #Comparación de los datos y va agregar una nueva columna con valores boleanos (True and False)"
      ],
      "execution_count": null,
      "outputs": []
    },
    {
      "cell_type": "code",
      "metadata": {
        "id": "AIiSAEn39cJo"
      },
      "source": [
        "df.head()"
      ],
      "execution_count": null,
      "outputs": []
    },
    {
      "cell_type": "code",
      "metadata": {
        "id": "YfBy5kUJ_nge"
      },
      "source": [
        "df.describe()"
      ],
      "execution_count": null,
      "outputs": []
    },
    {
      "cell_type": "code",
      "metadata": {
        "id": "p4zNYyHz_uSV"
      },
      "source": [
        "df.['Male'].sum()"
      ],
      "execution_count": null,
      "outputs": []
    },
    {
      "cell_type": "markdown",
      "metadata": {
        "id": "ilIUTfNkCzmG"
      },
      "source": [
        "#Scatter plot"
      ]
    },
    {
      "cell_type": "code",
      "metadata": {
        "id": "HDNUW9LpDTfX"
      },
      "source": [
        "plt.figure(figsize=(8,5))\n",
        "plt.scatter(df['Fare'], df['Age'],c=df['Male'],marker=\"x\") #Como se encuentran distribuidos nuestros datos\n",
        "plt.xlabel(\"Fare\")\n",
        "plt.ylabel(\"Age\")"
      ],
      "execution_count": null,
      "outputs": []
    },
    {
      "cell_type": "markdown",
      "metadata": {
        "id": "IedHeqX6FARB"
      },
      "source": [
        "#Separar caracteristicas y objetivo"
      ]
    },
    {
      "cell_type": "code",
      "metadata": {
        "id": "m_Z6TiSsF7ft"
      },
      "source": [
        "#x = df[['Pclass','Age','Siblings/Spouses','Parents/Children','Fare','Male']]\n",
        "#y = df['Survived'].values"
      ],
      "execution_count": null,
      "outputs": []
    },
    {
      "cell_type": "code",
      "metadata": {
        "id": "x3JC9q1gFGSu"
      },
      "source": [
        "x = df[['Pclass','Age','Siblings/Spouses','Parents/Children','Fare','Male']].values\n",
        "y = df['Survived'].values"
      ],
      "execution_count": null,
      "outputs": []
    },
    {
      "cell_type": "code",
      "metadata": {
        "id": "cQfo2aiSFlnB"
      },
      "source": [
        "x"
      ],
      "execution_count": null,
      "outputs": []
    },
    {
      "cell_type": "code",
      "metadata": {
        "id": "_5bb5C38FmWw"
      },
      "source": [
        "y"
      ],
      "execution_count": null,
      "outputs": []
    },
    {
      "cell_type": "markdown",
      "metadata": {
        "id": "PQzEnsmFGEBD"
      },
      "source": [
        "#Configurar el modelo "
      ]
    },
    {
      "cell_type": "code",
      "metadata": {
        "id": "1ZDqAhXUGGPh"
      },
      "source": [
        "modelo = LogisticRegression()"
      ],
      "execution_count": null,
      "outputs": []
    },
    {
      "cell_type": "markdown",
      "metadata": {
        "id": "qQsqHQ-RaiSq"
      },
      "source": [
        "# Dividir en train y test"
      ]
    },
    {
      "cell_type": "code",
      "metadata": {
        "id": "msZ5Zh54akn-"
      },
      "source": [
        "X_train, X_test, y_train, y_test = train_split(X,y, test_size=0.2, random_state=124)"
      ],
      "execution_count": null,
      "outputs": []
    },
    {
      "cell_type": "markdown",
      "metadata": {
        "id": "IAnYgRD1ayOo"
      },
      "source": [
        "# Entrenar"
      ]
    },
    {
      "cell_type": "code",
      "metadata": {
        "id": "1j41tuxFazig"
      },
      "source": [
        "model.fit(X_train, y_train)"
      ],
      "execution_count": null,
      "outputs": []
    },
    {
      "cell_type": "markdown",
      "metadata": {
        "id": "u4cvOVUUa-Vx"
      },
      "source": [
        "#Predicciones"
      ]
    },
    {
      "cell_type": "code",
      "metadata": {
        "id": "s0SuBcTGa_5l"
      },
      "source": [
        "y_pred = model.predict(X_test)"
      ],
      "execution_count": null,
      "outputs": []
    },
    {
      "cell_type": "markdown",
      "metadata": {
        "id": "22q7lV2hbEhO"
      },
      "source": [
        "#Analizar las predicciones"
      ]
    },
    {
      "cell_type": "code",
      "metadata": {
        "id": "HBPu1eRrbHJG"
      },
      "source": [
        "X_test.shape"
      ],
      "execution_count": null,
      "outputs": []
    },
    {
      "cell_type": "code",
      "metadata": {
        "id": "ytgUXj3_bLhk"
      },
      "source": [
        "X_test[6] #(:) Ver todos los registros o poner cuantos se necesita "
      ],
      "execution_count": null,
      "outputs": []
    },
    {
      "cell_type": "code",
      "metadata": {
        "id": "tvhNmH3Nbn7k"
      },
      "source": [
        "y_test[6]"
      ],
      "execution_count": null,
      "outputs": []
    },
    {
      "cell_type": "code",
      "metadata": {
        "id": "-YkmVtfSj5da"
      },
      "source": [
        "y_pred[6]"
      ],
      "execution_count": null,
      "outputs": []
    },
    {
      "cell_type": "markdown",
      "metadata": {
        "id": "DIoo27RYkZQ9"
      },
      "source": [
        "#Probabilidad"
      ]
    },
    {
      "cell_type": "code",
      "metadata": {
        "id": "aBZJ0K2ykanY"
      },
      "source": [
        "model.predict_proba(X_test)[6,0]"
      ],
      "execution_count": null,
      "outputs": []
    },
    {
      "cell_type": "code",
      "metadata": {
        "id": "1alEsZ4Mk42z"
      },
      "source": [
        "model.predict_proba(X_test)[6,1]"
      ],
      "execution_count": null,
      "outputs": []
    },
    {
      "cell_type": "code",
      "metadata": {
        "id": "4NNM1vgOlY_i"
      },
      "source": [
        "y.shape"
      ],
      "execution_count": null,
      "outputs": []
    },
    {
      "cell_type": "code",
      "metadata": {
        "id": "XHkYhBcYlcOq"
      },
      "source": [
        "y.sum() #Personas que sobrevivieron"
      ],
      "execution_count": null,
      "outputs": []
    },
    {
      "cell_type": "code",
      "metadata": {
        "id": "34iOMQYTl1N3"
      },
      "source": [
        "y.shape - y.sum() #Personas que no sobrevivieron"
      ],
      "execution_count": null,
      "outputs": []
    },
    {
      "cell_type": "markdown",
      "metadata": {
        "id": "axU_dgYcoSi5"
      },
      "source": [
        "#Métricas\n",
        "Accuracy = número de predicciones correctas / total de predicciones\n"
      ]
    },
    {
      "cell_type": "code",
      "metadata": {
        "id": "StEYnLU9ogAl"
      },
      "source": [
        "y_pred == y_test"
      ],
      "execution_count": null,
      "outputs": []
    },
    {
      "cell_type": "code",
      "metadata": {
        "id": "jzGRAoTNosQX"
      },
      "source": [
        "(y_pred == y_test).sum()"
      ],
      "execution_count": null,
      "outputs": []
    },
    {
      "cell_type": "code",
      "metadata": {
        "id": "4jEZSTndo0HT"
      },
      "source": [
        "y_test.shape"
      ],
      "execution_count": null,
      "outputs": []
    },
    {
      "cell_type": "code",
      "metadata": {
        "id": "qqEOCoB5o6vN"
      },
      "source": [
        "accuracy = (y_pred == y_test).sum() / y.test.shape\n",
        "accuracy"
      ],
      "execution_count": null,
      "outputs": []
    },
    {
      "cell_type": "markdown",
      "metadata": {
        "id": "NlxJftTopL2e"
      },
      "source": [
        "#Matriz de confusión"
      ]
    },
    {
      "cell_type": "code",
      "metadata": {
        "id": "bUkExQ1fpOVk"
      },
      "source": [
        "confusion_matrix(y_test,y_pred)"
      ],
      "execution_count": null,
      "outputs": []
    },
    {
      "cell_type": "code",
      "metadata": {
        "id": "OqSxCvczrhTm"
      },
      "source": [
        "plot_confusion_matrix(model,X_test,y_test)"
      ],
      "execution_count": null,
      "outputs": []
    },
    {
      "cell_type": "code",
      "metadata": {
        "id": "U_s_2cLapVmF"
      },
      "source": [
        "labels = [\"Not survived\", \"Survived\"]\n",
        "plot_confusion_matrix(model,X_test,y_test, display_labels=labels)"
      ],
      "execution_count": null,
      "outputs": []
    },
    {
      "cell_type": "code",
      "metadata": {
        "id": "DUE94aOmryfZ"
      },
      "source": [
        "labels = [\"Not survived\", \"Survived\"]\n",
        "print(classification_report(y_test,y_pred, target_names=labels))"
      ],
      "execution_count": null,
      "outputs": []
    }
  ]
}